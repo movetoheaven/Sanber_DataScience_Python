{
  "cells": [
    {
      "cell_type": "markdown",
      "metadata": {
        "id": "1O3NGQSKzf_A"
      },
      "source": [
        "# Data Structure"
      ]
    },
    {
      "cell_type": "markdown",
      "metadata": {
        "id": "m2VWq6g9szIv"
      },
      "source": [
        "<h2>Soal 1: Perbedaan Data Structure</h2>\n",
        "\n",
        "Jawab Pertanyaan di bawah ini:\n",
        "\n",
        "Jelaskan perbedaan dari List, Tuple, Set dan Dictionary!"
      ]
    },
    {
      "cell_type": "markdown",
      "metadata": {
        "id": "vfsQF2Ipxjhe"
      },
      "source": [
        "List: Struktur data berurutan yang dapat diubah, berisi elemen-elemen dengan jenis data yang berbeda, dan bisa memiliki elemen duplikat.\n",
        "\n",
        "Tuple: Struktur data berurutan yang tidak dapat diubah, mirip dengan list tetapi immutable.\n",
        "\n",
        "Set: Struktur data yang tidak berurutan, hanya berisi elemen-elemen unik, dan tidak dapat diindeks.\n",
        "\n",
        "Dictionary: Struktur data berisi pasangan kunci-nilai yang digunakan untuk menyimpan data berbasis kunci."
      ]
    },
    {
      "cell_type": "markdown",
      "metadata": {
        "id": "CO_5tbts9Od3"
      },
      "source": [
        "\n",
        "\n",
        "---\n",
        "\n",
        "\n",
        "\n",
        "---\n",
        "\n"
      ]
    },
    {
      "cell_type": "markdown",
      "metadata": {
        "id": "-31NFEy_xprf"
      },
      "source": [
        "# List"
      ]
    },
    {
      "cell_type": "markdown",
      "metadata": {
        "id": "XD1fT351szI2"
      },
      "source": [
        "<h2>Soal 2: Akses List</h2>\n",
        "\n",
        "Lengkapi kode untuk menghasilkan suatu output yang di harapkan"
      ]
    },
    {
      "cell_type": "code",
      "execution_count": null,
      "metadata": {
        "colab": {
          "base_uri": "https://localhost:8080/"
        },
        "id": "qXKteY88szI5",
        "outputId": "862db339-2b31-495a-b9ec-dd583fb7fd03"
      },
      "outputs": [
        {
          "name": "stdout",
          "output_type": "stream",
          "text": [
            "['13b', 'aa1', 1.32, 22.1]\n"
          ]
        }
      ],
      "source": [
        "a = ['1', '13b', 'aa1', 1.32, 22.1, 2.34]\n",
        "# slicing list\n",
        "print(a[1:5])"
      ]
    },
    {
      "cell_type": "markdown",
      "metadata": {
        "id": "4Qp2wjmOszJJ"
      },
      "source": [
        "Expected Output :\n",
        "\n",
        "[ '13b', 'aa1', 1.32, 22.1 ]"
      ]
    },
    {
      "cell_type": "markdown",
      "metadata": {
        "id": "zKS3e_kTszJm"
      },
      "source": [
        "<h2>Soal 3: Akses Nested List</h2>\n",
        "\n",
        "Lengkapi kode untuk menghasilkan suatu output yang di harapkan"
      ]
    },
    {
      "cell_type": "code",
      "execution_count": 4,
      "metadata": {
        "colab": {
          "base_uri": "https://localhost:8080/"
        },
        "id": "IhFh_WCzszJo",
        "outputId": "2c0a7f71-0d07-4c7c-8055-443c4e2021fd"
      },
      "outputs": [
        {
          "name": "stdout",
          "output_type": "stream",
          "text": [
            "[0, 6]\n"
          ]
        }
      ],
      "source": [
        "a = [\n",
        "    [5, 9, 8],\n",
        "    [0, 0, 6]\n",
        "    ]\n",
        "# subsetting list\n",
        "print(a[1][1:3])"
      ]
    },
    {
      "cell_type": "markdown",
      "metadata": {
        "id": "mk5EMa6pszJ2"
      },
      "source": [
        "Expected Output :\n",
        "\n",
        "\n",
        "[0, 6]"
      ]
    },
    {
      "cell_type": "markdown",
      "metadata": {
        "id": "cggENDN4szKX"
      },
      "source": [
        "<h2>Soal 4: List Manipulation</h2>\n",
        "\n",
        "Lengkapi kode untuk menghasilkan suatu output yang di harapkan"
      ]
    },
    {
      "cell_type": "code",
      "execution_count": 3,
      "metadata": {
        "colab": {
          "base_uri": "https://localhost:8080/"
        },
        "id": "o9_8JDPn8452",
        "outputId": "6531b252-2b6e-40cf-bfa6-3b4424f84255"
      },
      "outputs": [
        {
          "name": "stdout",
          "output_type": "stream",
          "text": [
            "[[5, 9, 10], [11, 0, 6]]\n"
          ]
        }
      ],
      "source": [
        "a = [\n",
        "    [5, 9, 8],\n",
        "    [0, 0, 6]\n",
        "    ]\n",
        "# change list value\n",
        "\n",
        "a[0][2] = 10\n",
        "a[1][0] = 11\n",
        "print(a)"
      ]
    },
    {
      "cell_type": "markdown",
      "metadata": {
        "id": "iYHFRJW7szKl"
      },
      "source": [
        "Expected Output :\n",
        "\n",
        "[ [5, 9, 10], [11, 0, 6] ]"
      ]
    },
    {
      "cell_type": "markdown",
      "metadata": {
        "id": "dSTDqY9iszKn"
      },
      "source": [
        "<h2>Soal 5: Delete Element List</h2>\n",
        "\n",
        "Lengkapi kode untuk menghasilkan suatu output yang di harapkan"
      ]
    },
    {
      "cell_type": "code",
      "execution_count": 11,
      "metadata": {
        "colab": {
          "base_uri": "https://localhost:8080/"
        },
        "id": "JXCqRPUO8_qI",
        "outputId": "031afd54-900c-411d-ab28-89038864c82a"
      },
      "outputs": [
        {
          "name": "stdout",
          "output_type": "stream",
          "text": [
            "['hallway', 11.25, 'kitchen', 18.0, 'chill zone', 20.0, 'bedroom', 10.75, 'poolhouse', 24.5, 'garage', 15.45]\n"
          ]
        }
      ],
      "source": [
        "areas = [\"hallway\", 11.25, \"kitchen\", 18.0,\n",
        "        \"chill zone\", 20.0, \"bedroom\", 10.75,\n",
        "         \"bathroom\", 10.50, \"poolhouse\", 24.5,\n",
        "         \"garage\", 15.45]\n",
        "\n",
        "# Hilangkan elemen yang bernilai \"bathroom\" dan 10.50 dalam satu statement code\n",
        "del(areas[8:10])\n",
        "\n",
        "\n",
        "print(areas)"
      ]
    },
    {
      "cell_type": "markdown",
      "metadata": {
        "id": "ZeF61jc_szK1"
      },
      "source": [
        "Expected Output:\n",
        "\n",
        "['hallway',\n",
        " 11.25,\n",
        " 'kitchen',\n",
        " 18.0,\n",
        " 'chill zone',\n",
        " 20.0,\n",
        " 'bedroom',\n",
        " 10.75,\n",
        " 'poolhouse',\n",
        " 24.5,\n",
        " 'garage',\n",
        " 15.45]\n",
        "\n"
      ]
    },
    {
      "cell_type": "markdown",
      "metadata": {
        "id": "onKmJ3XqY5FN"
      },
      "source": [
        "## Soal 6: List Comprehension\n",
        "\n",
        "Gunakan metode **list comprehension** untuk mencari anggota dari S yang habis di bagi 2, kemudian assign hasilnya dalam bentuk list ke dalam variabel T."
      ]
    },
    {
      "cell_type": "code",
      "execution_count": 1,
      "metadata": {
        "colab": {
          "base_uri": "https://localhost:8080/"
        },
        "id": "sUIB3iXK9H3K",
        "outputId": "70c3f0e3-2d4c-4e83-be1d-dfa7d71c4dd0"
      },
      "outputs": [
        {
          "name": "stdout",
          "output_type": "stream",
          "text": [
            "[0, 4, 16, 36, 64]\n"
          ]
        }
      ],
      "source": [
        "S = [0, 1, 4, 9, 16, 25, 36, 49, 64, 81]\n",
        "\n",
        "T = [i for i in S if i%2 == 0]\n",
        "\n",
        "print(T)"
      ]
    },
    {
      "cell_type": "markdown",
      "metadata": {
        "id": "Jjn-28CDaShb"
      },
      "source": [
        "Expected Output:\n",
        "\n",
        "[0, 4, 16, 36, 64]"
      ]
    },
    {
      "cell_type": "markdown",
      "metadata": {
        "id": "C7ztBLG19LM6"
      },
      "source": [
        "\n",
        "\n",
        "---\n",
        "\n",
        "\n",
        "\n",
        "---\n",
        "\n"
      ]
    },
    {
      "cell_type": "markdown",
      "metadata": {
        "id": "yK3s_CB69Tx0"
      },
      "source": [
        "# Tuple"
      ]
    },
    {
      "cell_type": "markdown",
      "metadata": {
        "id": "vIvG32Rp9WvI"
      },
      "source": [
        "## Soal 7. Mengakses Tuple\n",
        "\n",
        "Gunakan cara sclicing untuk mengakses tuple sehingga mendapatkan hasil sesuai expected output"
      ]
    },
    {
      "cell_type": "code",
      "execution_count": null,
      "metadata": {
        "colab": {
          "base_uri": "https://localhost:8080/"
        },
        "id": "XNsuiSLABsmQ",
        "outputId": "7a4641bb-3cd4-469d-cf61-211ec3aa601d"
      },
      "outputs": [
        {
          "name": "stdout",
          "output_type": "stream",
          "text": [
            "(6, 7, 8)\n"
          ]
        }
      ],
      "source": [
        "tuple_1 = (1, 2, 6, 7, 8, 9, 10)\n",
        "\n",
        "#akses tuple\n",
        "print(tuple_1[2:5])"
      ]
    },
    {
      "cell_type": "markdown",
      "metadata": {
        "id": "yJRgSBHKBvyD"
      },
      "source": [
        "Expected Outpout:\n",
        "\n",
        "\n",
        "(6, 7, 8)"
      ]
    },
    {
      "cell_type": "markdown",
      "metadata": {
        "id": "1oT6SOCmEuLA"
      },
      "source": [
        "\n",
        "\n",
        "---\n",
        "\n",
        "\n",
        "\n",
        "---\n",
        "\n"
      ]
    },
    {
      "cell_type": "markdown",
      "metadata": {
        "id": "gdBwjXz8zoMi"
      },
      "source": [
        "# Dictionary"
      ]
    },
    {
      "cell_type": "markdown",
      "metadata": {
        "id": "qjMKbE9D6qow"
      },
      "source": [
        "<h2>Soal 8: Menambahkan key-value baru ke Dictionary</h2>\n",
        "\n",
        "Lengkapi kode untuk menghasilkan suatu output yang di harapkan"
      ]
    },
    {
      "cell_type": "code",
      "execution_count": 7,
      "metadata": {
        "id": "rU7Z5dzC6qox"
      },
      "outputs": [
        {
          "data": {
            "text/plain": [
              "True"
            ]
          },
          "execution_count": 7,
          "metadata": {},
          "output_type": "execute_result"
        }
      ],
      "source": [
        "europe = {'spain':'madrid', 'france':'paris', 'germany':'berlin', 'norway':'oslo' }\n",
        "\n",
        "# tambahkan key itali ke objek dictionary dengan value roma\n",
        "europe['itali'] = 'roma'\n",
        "\n",
        "# cek apakah itali ada di dalam objek dictionary\n",
        "'itali' in europe"
      ]
    },
    {
      "cell_type": "markdown",
      "metadata": {
        "id": "ur84PUyz6qo1"
      },
      "source": [
        "Expected Output:\n",
        "    \n",
        "True"
      ]
    },
    {
      "cell_type": "markdown",
      "metadata": {
        "id": "bgilSLKl6qo2"
      },
      "source": [
        "<h2>Soal 9: Update dan Remove Dictinary</h2>\n",
        "    \n",
        "Lengkapi kode untuk menghasilkan suatu output yang di harapkan"
      ]
    },
    {
      "cell_type": "code",
      "execution_count": 8,
      "metadata": {
        "id": "kglSlEvvFG15"
      },
      "outputs": [
        {
          "name": "stdout",
          "output_type": "stream",
          "text": [
            "{'spain': 'madrid', 'france': 'paris', 'germany': 'berlin', 'norway': 'oslo', 'italy': 'rome', 'poland': 'warsaw'}\n"
          ]
        }
      ],
      "source": [
        "europe = {'spain':'madrid', 'france':'paris', 'germany':'bonn',\n",
        "          'norway':'oslo', 'italy':'rome', 'poland':'warsaw',\n",
        "          'australia':'vienna' }\n",
        "\n",
        "# update nilai ibukota german ke berlin\n",
        "europe.update({'germany':'berlin'})\n",
        "\n",
        "# remove australia dari europa\n",
        "del europe['australia']\n",
        "\n",
        "print(europe)"
      ]
    },
    {
      "cell_type": "markdown",
      "metadata": {
        "id": "VDpHuoXS6qo6"
      },
      "source": [
        "Expected Output:\n",
        "\n",
        "{'spain': 'madrid', 'france': 'paris', 'germany': 'berlin', 'norway': 'oslo', 'italy': 'rome', 'poland': 'warsaw'}"
      ]
    },
    {
      "cell_type": "markdown",
      "metadata": {
        "id": "FNWyId1S6qo7"
      },
      "source": [
        "<h2>Soal 10: Nested Dictionary</h2>\n",
        "    \n",
        "Lengkapi kode untuk menghasilkan suatu output yang di harapkan"
      ]
    },
    {
      "cell_type": "code",
      "execution_count": 10,
      "metadata": {
        "id": "GZTie49zFTh5"
      },
      "outputs": [
        {
          "name": "stdout",
          "output_type": "stream",
          "text": [
            "80.62\n",
            "{'spain': {'capital': 'madrid', 'population': 46.77}, 'france': {'capital': 'paris', 'population': 66.03}, 'germany': {'capital': 'berlin', 'population': 80.62}, 'norway': {'capital': 'oslo', 'population': 5.084}, 'indonesia': {'capital': 'jakarta', 'population': 250}}\n"
          ]
        }
      ],
      "source": [
        "country = {\n",
        "           'spain': { 'capital':'madrid', 'population':46.77 },\n",
        "           'france': { 'capital':'paris', 'population':66.03 },\n",
        "           'germany': { 'capital':'berlin', 'population':80.62 },\n",
        "           'norway': { 'capital':'oslo', 'population':5.084 }\n",
        "         }\n",
        "\n",
        "# berapa populasi dari kota german?\n",
        "print(country['germany']['population'])\n",
        "\n",
        "# update data baru, yaitu negara indonesia dengan capital jakarta dan poulasi 250\n",
        "country['indonesia'] = {'capital':'jakarta', 'population':250}\n",
        "\n",
        "print(country)"
      ]
    },
    {
      "cell_type": "markdown",
      "metadata": {
        "id": "fKT0REFD6qo_"
      },
      "source": [
        "Expected Output:\n",
        "\n",
        "80.62\n",
        "\n",
        "{'spain': {'capital': 'madrid', 'population': 46.77}, 'france': {'capital': 'paris', 'population': 66.03}, 'germany': {'capital': 'berlin', 'population': 80.62}, 'norway': {'capital': 'oslo', 'population': 5.084}, 'indonesia': {'capital': 'jakarta', 'population': 250}}"
      ]
    },
    {
      "cell_type": "markdown",
      "metadata": {
        "id": "xefUN_T56qpA"
      },
      "source": [
        "<h2>Soal 11: Loop Dictionary</h2>\n",
        "    \n",
        "Lengkapi kode untuk menghasilkan suatu output yang di harapkan"
      ]
    },
    {
      "cell_type": "code",
      "execution_count": 12,
      "metadata": {
        "id": "6--DAeB8Fjwo"
      },
      "outputs": [
        {
          "name": "stdout",
          "output_type": "stream",
          "text": [
            "Ibukota spain adalah madrid\n",
            "Ibukota france adalah paris\n",
            "Ibukota germany adalah berlin\n",
            "Ibukota norway adalah oslo\n",
            "Ibukota indonesia adalah jakarta\n"
          ]
        }
      ],
      "source": [
        "country = {\n",
        "           'spain': { 'capital':'madrid', 'population':46.77 },\n",
        "           'france': { 'capital':'paris', 'population':66.03 },\n",
        "           'germany': { 'capital':'berlin', 'population':80.62 },\n",
        "           'norway': { 'capital':'oslo', 'population':5.084 },\n",
        "           'indonesia' : {'capital':'jakarta', 'population':250}\n",
        "         }\n",
        "\n",
        "for key, value in country.items():\n",
        "    print('Ibukota '+key+' adalah ' + value['capital'])\n"
      ]
    },
    {
      "cell_type": "markdown",
      "metadata": {
        "id": "YjX6xAtj6qpE"
      },
      "source": [
        "Expected Output:\n",
        "    \n",
        "Ibukota spain adalah madrid\n",
        "\n",
        "Ibukota france adalah paris\n",
        "\n",
        "Ibukota germany adalah berlin\n",
        "\n",
        "Ibukota norway adalah oslo\n",
        "\n",
        "Ibukota indonesia adalah jakarta"
      ]
    },
    {
      "cell_type": "markdown",
      "metadata": {
        "id": "y2zgwVoWFrvN"
      },
      "source": [
        "\n",
        "\n",
        "---\n",
        "\n",
        "\n",
        "\n",
        "---\n",
        "\n"
      ]
    },
    {
      "cell_type": "markdown",
      "metadata": {
        "id": "WqSWJGhxFtLL"
      },
      "source": [
        "# Set"
      ]
    },
    {
      "cell_type": "markdown",
      "metadata": {
        "id": "hcGbe-6hFxQr"
      },
      "source": [
        "## Soal 12: Remove Duplicate using set\n",
        "\n",
        "\n",
        "Hilangkan nilai duplikat dari sebuah objek list dengan menggunakan cara set sehingga menjadi sebuah tipe set"
      ]
    },
    {
      "cell_type": "code",
      "execution_count": 16,
      "metadata": {
        "id": "NNVA6tNqFsan"
      },
      "outputs": [
        {
          "name": "stdout",
          "output_type": "stream",
          "text": [
            "{1, 2, 3, 4, 5, 6, 7, 8, 9, 10}\n"
          ]
        }
      ],
      "source": [
        "obj_list = [1, 2, 3, 4, 5, 5, 6, 7, 8, 9, 9, 10]\n",
        "\n",
        "#using set\n",
        "removedup_list = set(obj_list)\n",
        "\n",
        "print(removedup_list)"
      ]
    },
    {
      "cell_type": "markdown",
      "metadata": {
        "id": "mYiIvESyGeSM"
      },
      "source": [
        "Expected output:\n",
        "\n",
        "{1, 2, 3, 4, 5, 6, 7, 8, 9, 10}"
      ]
    },
    {
      "cell_type": "markdown",
      "metadata": {
        "id": "7yDz5di2HIR0"
      },
      "source": [
        "## Soal 13: Mengubah dan menghapus anggota set\n",
        "\n",
        "Ubahlah dan hapus anggota set sehingga mendapatkan hasil yang diinginkan\n"
      ]
    },
    {
      "cell_type": "code",
      "execution_count": 18,
      "metadata": {
        "id": "ecDrSJFrN3E0"
      },
      "outputs": [
        {
          "name": "stdout",
          "output_type": "stream",
          "text": [
            "{1, 2, 3, 4, 5, 6, 7}\n"
          ]
        }
      ],
      "source": [
        "set_1 = {1, 2, 3, 4, 5}\n",
        "\n",
        "#tambahkan anggota set dengan nilai {6,7,8}\n",
        "set_1.update({6,7,8})\n",
        "# {1, 2, 3, 4, 5, 6, 7, 8}\n",
        "#hapus nilai anggota set 8\n",
        "set_1.remove(8)\n",
        "\n",
        "print(set_1)"
      ]
    },
    {
      "cell_type": "markdown",
      "metadata": {
        "id": "ivvRxwHgOibz"
      },
      "source": [
        "Expected output:\n",
        "\n",
        "{1, 2, 3, 4, 5, 6, 7}"
      ]
    },
    {
      "cell_type": "markdown",
      "metadata": {
        "id": "Zl8p-uBuO7Av"
      },
      "source": [
        "## Soal 14: Operasi pada Set\n",
        "\n",
        "Carilah irisan dari ke dua set dengan menggunakan metode intersection"
      ]
    },
    {
      "cell_type": "code",
      "execution_count": 20,
      "metadata": {
        "colab": {
          "base_uri": "https://localhost:8080/"
        },
        "id": "PQLEqbUCOWPN",
        "outputId": "b19ab378-ae3d-418c-8e48-510f514ec20f"
      },
      "outputs": [
        {
          "name": "stdout",
          "output_type": "stream",
          "text": [
            "{8, 10, 6}\n"
          ]
        }
      ],
      "source": [
        "set_2 = {6, 8, 9, 10, 24}\n",
        "set_3 = {6, 10, 8, 25, 13}\n",
        "\n",
        "#intersection set\n",
        "# print(set_2 & set_3)\n",
        "print(sorted(set_2.intersection(set_3)))\n"
      ]
    },
    {
      "cell_type": "markdown",
      "metadata": {
        "id": "5a2uwgZbPk6Z"
      },
      "source": [
        "Expected output:\n",
        "\n",
        "\n",
        "{6, 8, 10}"
      ]
    },
    {
      "cell_type": "markdown",
      "metadata": {
        "id": "txdh4OI0Pr6p"
      },
      "source": [
        "\n",
        "\n",
        "---\n",
        "\n",
        "\n",
        "\n",
        "---\n",
        "\n"
      ]
    }
  ],
  "metadata": {
    "colab": {
      "provenance": []
    },
    "kernelspec": {
      "display_name": "Python 3",
      "language": "python",
      "name": "python3"
    },
    "language_info": {
      "codemirror_mode": {
        "name": "ipython",
        "version": 3
      },
      "file_extension": ".py",
      "mimetype": "text/x-python",
      "name": "python",
      "nbconvert_exporter": "python",
      "pygments_lexer": "ipython3",
      "version": "3.11.4"
    }
  },
  "nbformat": 4,
  "nbformat_minor": 0
}
